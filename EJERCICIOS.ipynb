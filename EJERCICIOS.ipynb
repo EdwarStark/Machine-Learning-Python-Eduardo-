{
 "cells": [
  {
   "cell_type": "markdown",
   "id": "7d7d0fac",
   "metadata": {},
   "source": [
    "# GRADIENTE"
   ]
  },
  {
   "cell_type": "markdown",
   "id": "8898a7bb",
   "metadata": {},
   "source": [
    "El gradiente de una función es un vector columna cuyas entradas son las derivadas parciales de dicha función.\n",
    "\n",
    "Para el ejercicio se tomará como ejemplo la función $f(x, y) = -\\frac{4x}{x^2 + y^2 + 1}$"
   ]
  },
  {
   "cell_type": "markdown",
   "id": "b572dc2c",
   "metadata": {},
   "source": [
    "**Librerías necesarias**"
   ]
  },
  {
   "cell_type": "code",
   "execution_count": 5,
   "id": "e9123279",
   "metadata": {},
   "outputs": [],
   "source": [
    "import numpy as np\n",
    "from sympy import *"
   ]
  },
  {
   "cell_type": "markdown",
   "id": "9727f2b4",
   "metadata": {},
   "source": [
    "**Desarrollo del problema**"
   ]
  },
  {
   "cell_type": "markdown",
   "id": "c2eb76ab",
   "metadata": {},
   "source": [
    "- Primero definimos la función con la que se trabajará"
   ]
  },
  {
   "cell_type": "code",
   "execution_count": 6,
   "id": "a5aa9e3a",
   "metadata": {},
   "outputs": [],
   "source": [
    "def f(x, y):\n",
    "    return -(4*x)/(x**2 + y**2 + 1)"
   ]
  },
  {
   "cell_type": "markdown",
   "id": "0fb2a79b",
   "metadata": {},
   "source": [
    "- Ahora, se define una función que ayudará a obtener las derivadas parciales de la función evaluadas en un punto"
   ]
  },
  {
   "cell_type": "code",
   "execution_count": 7,
   "id": "9a21c62b",
   "metadata": {},
   "outputs": [],
   "source": [
    "\n",
    "def partial(func: \"Function\", vals: tuple, index, delta = 0.000001): #(x, y)\n",
    "    vals = np.array(vals, dtype = float)\n",
    "    vals_delta = vals.copy()\n",
    "    vals_delta[index] += delta\n",
    "    \n",
    "    return (func(*vals_delta) - func(*vals)) / delta"
   ]
  },
  {
   "cell_type": "markdown",
   "id": "9a9b334d",
   "metadata": {},
   "source": [
    "- Usando la función anterior, se creará la función con la que se obtendrá el vector gradiente de la función"
   ]
  },
  {
   "cell_type": "code",
   "execution_count": 16,
   "id": "0e6a96c1",
   "metadata": {},
   "outputs": [],
   "source": [
    "def gradient(func:\"Function\",vals,delta = 0.000001):\n",
    "    return np.array([partial(func,vals,i,delta = delta) for i in range (len(vals))])"
   ]
  },
  {
   "cell_type": "code",
   "execution_count": 17,
   "id": "d4f9b89f",
   "metadata": {},
   "outputs": [
    {
     "data": {
      "text/plain": [
       "array([-0.1224489,  0.2448979])"
      ]
     },
     "execution_count": 17,
     "metadata": {},
     "output_type": "execute_result"
    }
   ],
   "source": [
    "gradient(f,(2,3)) #Aquí evaluamos el gradiente de la función f, evaluado en los puntos del par ordenado (2,3)"
   ]
  },
  {
   "cell_type": "markdown",
   "id": "48ce6f04",
   "metadata": {},
   "source": [
    "# Matriz Jacobiana"
   ]
  },
  {
   "cell_type": "markdown",
   "id": "1c59ec16",
   "metadata": {},
   "source": [
    "La matriz Jacobiana tiene como elementos las derivadas parciales de primer orden de una función o funciones. En el caso más simples, la matriz jacobiana es la transpuesta del gradiente, siendo así un vector renglón cuyas entradas son las derivadas parciales de la función.\n",
    "Extendiendo el concepto a campos vectoriales, la matriz jacobiana tendrá como renglón las funciones derivadas y como columna las derivadas parciales respecto de cada variable que contengan las funciones.\n",
    "\n",
    "Para mostrar el ejercicio, se usarán las funciones $$F_1 = x * y * z$$ y $$F_2 = y - z^3$$"
   ]
  },
  {
   "cell_type": "markdown",
   "id": "e5eb3032",
   "metadata": {},
   "source": [
    "- Definimos las funciones"
   ]
  },
  {
   "cell_type": "code",
   "execution_count": 18,
   "id": "eabc455c",
   "metadata": {},
   "outputs": [],
   "source": [
    "def f1(x, y, z):\n",
    "    return x * y * z"
   ]
  },
  {
   "cell_type": "code",
   "execution_count": 19,
   "id": "acbdc9f4",
   "metadata": {},
   "outputs": [],
   "source": [
    "def f2(x, y, z):\n",
    "    return y - z**3"
   ]
  },
  {
   "cell_type": "markdown",
   "id": "d9cbe99b",
   "metadata": {},
   "source": [
    "- Estas dos funciones, acopladas en otra función, formarían un campo vectorial"
   ]
  },
  {
   "cell_type": "markdown",
   "id": "2a2e3d74",
   "metadata": {},
   "source": [
    "- Creamos la función que armará la matriz Jacobiana de este campo vectorial"
   ]
  },
  {
   "cell_type": "code",
   "execution_count": 21,
   "id": "993cf205",
   "metadata": {},
   "outputs": [],
   "source": [
    "def Jacobian_matrix (funcs, vals, delta = 0.000001):\n",
    "    j = [gradient(funcs[i], vals, delta = delta) for i in range (len(funcs))]\n",
    "    return np.array(j)"
   ]
  },
  {
   "cell_type": "code",
   "execution_count": 24,
   "id": "1e89201c",
   "metadata": {},
   "outputs": [
    {
     "data": {
      "text/plain": [
       "array([[  24.      ,   12.      ,    8.      ],\n",
       "       [   0.      ,    1.      , -108.000018]])"
      ]
     },
     "execution_count": 24,
     "metadata": {},
     "output_type": "execute_result"
    }
   ],
   "source": [
    "Jacobian_matrix((f1,f2), (2,4,6)) #En este caso, las derivadas parciales son evaluadas en el punto (2,4,6)"
   ]
  },
  {
   "cell_type": "code",
   "execution_count": null,
   "id": "7e97a59c",
   "metadata": {},
   "outputs": [],
   "source": []
  }
 ],
 "metadata": {
  "kernelspec": {
   "display_name": "Python 3 (ipykernel)",
   "language": "python",
   "name": "python3"
  },
  "language_info": {
   "codemirror_mode": {
    "name": "ipython",
    "version": 3
   },
   "file_extension": ".py",
   "mimetype": "text/x-python",
   "name": "python",
   "nbconvert_exporter": "python",
   "pygments_lexer": "ipython3",
   "version": "3.11.4"
  }
 },
 "nbformat": 4,
 "nbformat_minor": 5
}
